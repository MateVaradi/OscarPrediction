{
 "cells": [
  {
   "cell_type": "code",
   "execution_count": 1,
   "id": "6f181ec5-b53c-4d1e-a33b-ccbcb073db7c",
   "metadata": {},
   "outputs": [],
   "source": [
    "# Imports\n",
    "import pandas as pd\n",
    "import numpy as np\n",
    "import re\n",
    "from time import sleep\n",
    "from random import randint\n",
    "import rottentomatoes as rt\n",
    "from datetime import datetime\n",
    "import requests\n",
    "from imdbmovies import IMDB"
   ]
  },
  {
   "cell_type": "code",
   "execution_count": 45,
   "id": "da8828f0-5ad4-4ccf-ba8c-b54e22f0ee6f",
   "metadata": {},
   "outputs": [],
   "source": [
    "noms = pd.read_excel(f\"../data/nominations_2023.xlsx\")\n",
    "titles = noms[\"Film\"].unique()\n",
    "actors = noms[noms[\"Category\"].str.contains(\"actor|actress\", case=False)][\"Nominee\"].unique()\n",
    "directors = noms[noms[\"Category\"] == \"Director\"][\"Nominee\"].unique()\n",
    "\n",
    "noms_director = noms[noms[\"Category\"]==\"Director\"]\n",
    "noms_picture = noms[noms[\"Category\"]==\"Picture\"]\n",
    "noms_acting = noms[noms[\"Category\"].str.contains(\"actor|actress\", case=False)]"
   ]
  },
  {
   "cell_type": "code",
   "execution_count": 116,
   "id": "3d1b4441-d9b4-4d3c-88fd-2f1a4ea119e7",
   "metadata": {},
   "outputs": [],
   "source": [
    "# 2023 links\n",
    "urls_2023 = {\n",
    "    \"oscar\" : \"https://en.wikipedia.org/wiki/95th_Academy_Awards\",\n",
    "    \"sag\" : \"https://en.wikipedia.org/wiki/29th_Screen_Actors_Guild_Awards\",\n",
    "    \"dga\" : \"https://en.wikipedia.org/wiki/75th_Directors_Guild_of_America_Awards\",\n",
    "    \"pga\" : \"https://en.wikipedia.org/wiki/34th_Producers_Guild_of_America_Awards\",\n",
    "    \"cc\" : \"https://en.wikipedia.org/wiki/28th_Critics%27_Choice_Awards\",\n",
    "    \"bafta\" : \"https://en.wikipedia.org/wiki/76th_British_Academy_Film_Awards\",\n",
    "    \"gg\" : \"https://en.wikipedia.org/wiki/80th_Golden_Globe_Awards\"\n",
    "}\n",
    "\n",
    "maps_2023 = {\n",
    "        \"gg\" :  {\n",
    "        \"Best Drama\" : (0,0),\n",
    "        \"Best Comedy\" : (0,1),\n",
    "        \"Director\" : (14,0),\n",
    "        \"Drama Actor\" : (5,0),\n",
    "        \"Drama Actress\" : (5,1),\n",
    "        \"Comedy Actor\" : (8,0),\n",
    "        \"Comedy Actress\" : (8,1),\n",
    "        \"Supporting Actor\" : (11,0),\n",
    "        \"Supporting Actress\" : (11,1),\n",
    "    },\n",
    "    \n",
    "    \"sag\" : {\n",
    "        \"Picture\" : (2,1),\n",
    "        \"Actor\" : (0,0),\n",
    "        \"Actress\" : (0,1),\n",
    "        \"Supporting Actor\" : (1,0),\n",
    "        \"Supporting Actress\" : (1,1),\n",
    "    }\n",
    "}"
   ]
  },
  {
   "cell_type": "code",
   "execution_count": 120,
   "id": "21ca9903-6f0b-487a-9a2c-e5b5b3c5fd99",
   "metadata": {},
   "outputs": [],
   "source": [
    "# 2022 links\n",
    "urls_2022 = {\n",
    "  \"oscar\":\"https://en.wikipedia.org/wiki/94th_Academy_Awards\",\n",
    "  \"sag\": \"https://en.wikipedia.org/wiki/28th_Screen_Actors_Guild_Awards\",\n",
    "  \"dga\": \"https://en.wikipedia.org/wiki/74th_Directors_Guild_of_America_Awards\",\n",
    "  \"pga\": \"https://en.wikipedia.org/wiki/33th_Producers_Guild_of_America_Awards\",\n",
    "  \"cc\": \"https://en.wikipedia.org/wiki/27th_Critics%27_Choice_Awards\",\n",
    "  \"bafta\": \"https://en.wikipedia.org/wiki/75th_British_Academy_Film_Awards\",\n",
    "  \"gg\": \"https://en.wikipedia.org/wiki/79th_Golden_Globe_Awards\"\n",
    "}\n",
    "\n",
    "maps_2022 = {\n",
    "        \"gg\" :  {\n",
    "        \"Best Drama\" : (0,0),\n",
    "        \"Best Comedy\" : (0,1),\n",
    "        \"Director\" : (16,0),\n",
    "        \"Drama Actor\" : (7,0),\n",
    "        \"Drama Actress\" : (7,1),\n",
    "        \"Comedy Actor\" : (10,0),\n",
    "        \"Comedy Actress\" : (10,1),\n",
    "        \"Supporting Actor\" : (13,0),\n",
    "        \"Supporting Actress\" : (13,1),\n",
    "    },\n",
    "    \n",
    "    \"sag\" : {\n",
    "        \"Picture\" : (2,1),\n",
    "        \"Actor\" : (0,0),\n",
    "        \"Actress\" : (0,1),\n",
    "        \"Supporting Actor\" : (1,0),\n",
    "        \"Supporting Actress\" : (1,1),\n",
    "    }\n",
    "}"
   ]
  },
  {
   "cell_type": "code",
   "execution_count": 132,
   "id": "117dd6a4-a8c6-40c2-8a6c-88dc732eee68",
   "metadata": {},
   "outputs": [
    {
     "data": {
      "text/plain": [
       "{'noms': {'Director': ['Daniel Kwan and Daniel Scheinert',\n",
       "   'Todd Field',\n",
       "   'Joseph Kosinski',\n",
       "   'Martin McDonagh',\n",
       "   'Steven Spielberg']},\n",
       " 'wins': {'Director': 'Daniel Kwan and Daniel Scheinert'}}"
      ]
     },
     "execution_count": 132,
     "metadata": {},
     "output_type": "execute_result"
    }
   ],
   "source": [
    "awards_info_dict[\"dga\"]"
   ]
  },
  {
   "cell_type": "code",
   "execution_count": null,
   "id": "5a8ab5e3-62f8-46a8-b61b-f60fffdfa08f",
   "metadata": {},
   "outputs": [],
   "source": []
  }
 ],
 "metadata": {
  "kernelspec": {
   "display_name": "oscar-env",
   "language": "python",
   "name": "oscar-env"
  },
  "language_info": {
   "codemirror_mode": {
    "name": "ipython",
    "version": 3
   },
   "file_extension": ".py",
   "mimetype": "text/x-python",
   "name": "python",
   "nbconvert_exporter": "python",
   "pygments_lexer": "ipython3",
   "version": "3.12.4"
  }
 },
 "nbformat": 4,
 "nbformat_minor": 5
}
